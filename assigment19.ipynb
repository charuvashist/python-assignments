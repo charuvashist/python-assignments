{
  "nbformat": 4,
  "nbformat_minor": 0,
  "metadata": {
    "colab": {
      "name": "assigment19.ipynb",
      "version": "0.3.2",
      "views": {},
      "default_view": {},
      "provenance": []
    },
    "kernelspec": {
      "name": "python3",
      "display_name": "Python 3"
    }
  },
  "cells": [
    {
      "metadata": {
        "id": "hizpRJXbmT9h",
        "colab_type": "code",
        "colab": {
          "autoexec": {
            "startup": false,
            "wait_interval": 0
          }
        }
      },
      "cell_type": "code",
      "source": [
        "Create a numpy array with 10 elements of the shape(10,1) using np.random and find out the mean of the elements using basic numpy functions."
      ],
      "execution_count": 0,
      "outputs": []
    },
    {
      "metadata": {
        "id": "BHb4ObShmnPC",
        "colab_type": "code",
        "colab": {
          "autoexec": {
            "startup": false,
            "wait_interval": 0
          },
          "base_uri": "https://localhost:8080/",
          "height": 204
        },
        "outputId": "4af4c649-3682-4eea-f77c-d4ba730c37ec",
        "executionInfo": {
          "status": "ok",
          "timestamp": 1530864000865,
          "user_tz": -330,
          "elapsed": 1547,
          "user": {
            "displayName": "suruchi jain",
            "photoUrl": "https://lh3.googleusercontent.com/a/default-user=s128",
            "userId": "104282324095124070805"
          }
        }
      },
      "cell_type": "code",
      "source": [
        "import numpy as np\n",
        "\n",
        "a=np.random.rand(10,1)\n",
        "print(a)\n",
        "print(\"mean=\",a.mean())"
      ],
      "execution_count": 1,
      "outputs": [
        {
          "output_type": "stream",
          "text": [
            "[[0.8091038 ]\n",
            " [0.04240375]\n",
            " [0.05899945]\n",
            " [0.11991417]\n",
            " [0.65373293]\n",
            " [0.50288833]\n",
            " [0.87592491]\n",
            " [0.07883618]\n",
            " [0.00376041]\n",
            " [0.40593599]]\n",
            "mean= 0.355149991883144\n"
          ],
          "name": "stdout"
        }
      ]
    },
    {
      "metadata": {
        "id": "ROCMUtBAmvUM",
        "colab_type": "code",
        "colab": {
          "autoexec": {
            "startup": false,
            "wait_interval": 0
          }
        }
      },
      "cell_type": "code",
      "source": [
        "Create a numpy array with 20 elements of the shape(20,1) using np.random find the variance and standard deviation of the elements"
      ],
      "execution_count": 0,
      "outputs": []
    },
    {
      "metadata": {
        "id": "OzS8j9DCnzFH",
        "colab_type": "code",
        "colab": {
          "autoexec": {
            "startup": false,
            "wait_interval": 0
          },
          "base_uri": "https://localhost:8080/",
          "height": 391
        },
        "outputId": "436226f6-58f5-436d-a917-42d00c7319b7",
        "executionInfo": {
          "status": "ok",
          "timestamp": 1530864289144,
          "user_tz": -330,
          "elapsed": 1372,
          "user": {
            "displayName": "suruchi jain",
            "photoUrl": "https://lh3.googleusercontent.com/a/default-user=s128",
            "userId": "104282324095124070805"
          }
        }
      },
      "cell_type": "code",
      "source": [
        "import numpy as np\n",
        "\n",
        "a=np.random.rand(20,1)\n",
        "print(a)\n",
        "print(\"standard deviation=\",a.std())\n",
        "print(\"variance=\",a.var())"
      ],
      "execution_count": 8,
      "outputs": [
        {
          "output_type": "stream",
          "text": [
            "[[0.79919457]\n",
            " [0.44160488]\n",
            " [0.7971741 ]\n",
            " [0.81284059]\n",
            " [0.23877894]\n",
            " [0.8050866 ]\n",
            " [0.15587865]\n",
            " [0.89058665]\n",
            " [0.06427306]\n",
            " [0.03653379]\n",
            " [0.46005783]\n",
            " [0.92416057]\n",
            " [0.70231894]\n",
            " [0.14864558]\n",
            " [0.06858756]\n",
            " [0.8150657 ]\n",
            " [0.08927583]\n",
            " [0.80920311]\n",
            " [0.05233504]\n",
            " [0.2506955 ]]\n",
            "standard deviation= 0.3356975975256202\n",
            "variance= 0.11269287698447328\n"
          ],
          "name": "stdout"
        }
      ]
    },
    {
      "metadata": {
        "id": "YmtY4CE3n01J",
        "colab_type": "code",
        "colab": {
          "autoexec": {
            "startup": false,
            "wait_interval": 0
          }
        }
      },
      "cell_type": "code",
      "source": [
        "Create a numpy array A of shape(10,20) and B of shape (20,25) using np.random. Print the matrix which is the matrix multiplication of A and B. The shape of the new matrix should be (10,25). Using basic numpy math functions only find the sum of all the elements of the new matrix\n"
      ],
      "execution_count": 0,
      "outputs": []
    },
    {
      "metadata": {
        "id": "08EV8vvAn6ia",
        "colab_type": "code",
        "colab": {
          "autoexec": {
            "startup": false,
            "wait_interval": 0
          },
          "base_uri": "https://localhost:8080/",
          "height": 935
        },
        "outputId": "4f1bbc00-3e92-4b94-ab02-aacbf92d1d59",
        "executionInfo": {
          "status": "ok",
          "timestamp": 1530864331771,
          "user_tz": -330,
          "elapsed": 1276,
          "user": {
            "displayName": "suruchi jain",
            "photoUrl": "https://lh3.googleusercontent.com/a/default-user=s128",
            "userId": "104282324095124070805"
          }
        }
      },
      "cell_type": "code",
      "source": [
        "import numpy as np\n",
        "A=np.random.rand(10,20)\n",
        "B=np.random.rand(20,25)\n",
        "C=np.matmul(A,B)\n",
        "print(\"new matrix C=\",C)\n",
        "print(\"\")\n",
        "print(\"\")\n",
        "print(\"shape of C=\",C.shape)\n",
        "print(\"sum of elements=\",C.sum())"
      ],
      "execution_count": 9,
      "outputs": [
        {
          "output_type": "stream",
          "text": [
            "new matrix C= [[5.38395998 5.70214321 6.44581904 5.57862752 4.67155645 5.79423809\n",
            "  4.5289579  4.73304588 5.12942247 4.60500365 4.56750624 4.56197465\n",
            "  5.22953484 5.37547936 5.0305029  6.16421662 4.37170492 5.77419247\n",
            "  4.70074139 5.57995487 4.73140292 4.37189434 5.79840785 4.80171236\n",
            "  4.91351969]\n",
            " [5.11266682 6.52630504 7.39084614 6.33647497 4.92137513 6.9736648\n",
            "  6.02235306 5.55415667 5.84206505 5.12177527 4.61578696 4.60198584\n",
            "  5.27081996 5.77829308 6.5390418  6.53961285 4.9888731  6.60254658\n",
            "  6.42354539 5.88781628 4.50532425 5.12077995 5.95755811 5.37386746\n",
            "  5.81536679]\n",
            " [2.86842448 3.8838539  3.02255784 3.4489015  2.46662542 3.85355989\n",
            "  3.33001541 2.7693804  3.63100085 3.08299641 3.00556386 2.7273558\n",
            "  2.69586517 3.36651    3.7662771  3.97629467 2.39022978 3.66571649\n",
            "  3.81811301 3.57774923 2.37700579 3.15254449 3.14323808 3.51787828\n",
            "  2.31995303]\n",
            " [4.63159019 6.28490355 6.92820805 6.03088122 3.21751816 6.24320789\n",
            "  5.12520857 4.72740337 5.73964793 4.99292279 4.83257321 4.81617021\n",
            "  4.79003834 5.68960973 5.64770435 6.01031551 4.99308186 5.98105382\n",
            "  4.76177764 4.96393278 4.06829272 4.89880764 4.87101596 4.99742095\n",
            "  5.0638057 ]\n",
            " [4.00957759 6.08237957 6.13087932 5.7629785  3.96306133 5.90800324\n",
            "  4.63853816 4.31635655 5.77026618 4.46271315 4.17742063 5.02331179\n",
            "  6.0731011  5.51604073 6.05464067 6.37397802 4.90042764 5.95925052\n",
            "  5.47092217 5.59818345 3.92368244 5.38699086 5.03058767 4.90113756\n",
            "  4.74194131]\n",
            " [5.10558241 6.31088112 6.93313441 5.68198396 3.89198864 6.61145058\n",
            "  5.42705985 5.37329206 4.97696999 5.22454119 5.14747544 4.97289954\n",
            "  5.4245438  5.67966181 5.58844129 6.08035604 4.95517696 6.13479616\n",
            "  4.97184521 5.12834548 4.3520626  4.82903943 4.68296437 5.47730049\n",
            "  5.61447932]\n",
            " [4.95403967 5.7983729  5.64464516 5.18995003 3.73866329 6.55352102\n",
            "  4.63354397 4.24063184 5.13776719 5.11141904 5.19931639 4.63181072\n",
            "  4.57496695 5.57402674 4.28268728 6.075064   4.1838852  4.93783562\n",
            "  4.70888245 5.42416865 4.71734038 4.97998061 4.88446306 5.48378919\n",
            "  4.97747813]\n",
            " [5.36369803 6.46602016 6.22593208 5.21102352 4.82037601 6.21277128\n",
            "  4.96045093 4.20034764 6.11160842 4.50528145 4.72811453 4.70006794\n",
            "  5.00572272 5.99748434 5.17440807 7.4918998  4.52733963 6.13733529\n",
            "  5.71461862 6.29101752 4.87097117 5.34896352 5.72659698 5.41637013\n",
            "  4.49802191]\n",
            " [4.29497875 5.7748948  5.82543396 4.62299028 4.09810929 5.77516554\n",
            "  5.41663575 4.22878368 4.44056034 4.18017252 4.27882865 3.91819521\n",
            "  4.48293326 4.6206045  4.98043574 4.98743977 3.93232704 5.53586667\n",
            "  4.52559198 4.16759021 3.66225852 3.9959803  4.05756837 4.22675746\n",
            "  4.52362229]\n",
            " [4.25209275 4.57618643 4.89530472 4.50039389 4.15056505 4.75839419\n",
            "  4.09203711 3.00239982 4.84911492 3.97743778 4.75015923 3.75034552\n",
            "  4.60974595 4.79669731 4.24100042 5.19731559 3.65903677 4.84918287\n",
            "  3.98412511 4.20496383 3.96856195 4.24477604 3.65396117 3.70481074\n",
            "  3.41950213]]\n",
            "\n",
            "\n",
            "shape of C= (10, 25)\n",
            "sum of elements= 1229.2722936584978\n"
          ],
          "name": "stdout"
        }
      ]
    },
    {
      "metadata": {
        "id": "yJHCQIAXn_T9",
        "colab_type": "code",
        "colab": {
          "autoexec": {
            "startup": false,
            "wait_interval": 0
          }
        }
      },
      "cell_type": "code",
      "source": [
        "Create a numpy array A of shape(10,1).Using the basic operations of the numpy array generate an array of shape(10,1) such that each element is the following function applied on each element of A.\n"
      ],
      "execution_count": 0,
      "outputs": []
    },
    {
      "metadata": {
        "id": "ER3RtvNIoGb7",
        "colab_type": "code",
        "colab": {
          "autoexec": {
            "startup": false,
            "wait_interval": 0
          },
          "base_uri": "https://localhost:8080/",
          "height": 54
        },
        "outputId": "c33523a1-7f57-4696-8de4-e4f30c9abf56",
        "executionInfo": {
          "status": "ok",
          "timestamp": 1530864377012,
          "user_tz": -330,
          "elapsed": 1357,
          "user": {
            "displayName": "suruchi jain",
            "photoUrl": "https://lh3.googleusercontent.com/a/default-user=s128",
            "userId": "104282324095124070805"
          }
        }
      },
      "cell_type": "code",
      "source": [
        "import numpy as np\n",
        "import math\n",
        "\n",
        "A=np.random.rand(10,1)\n",
        "#print(A)\n",
        "l=[]\n",
        "for x in A:\n",
        "  for y in x:\n",
        "    B=1 / (1 + math.exp(-y))\n",
        "    l.append(B)\n",
        "print(l)\n"
      ],
      "execution_count": 10,
      "outputs": [
        {
          "output_type": "stream",
          "text": [
            "[0.6238255640927067, 0.6167347975193276, 0.5181965663101233, 0.5548902883472543, 0.5766783197666208, 0.7097227212817021, 0.5700876485355221, 0.6056898988686146, 0.586433038563666, 0.7055762427500972]\n"
          ],
          "name": "stdout"
        }
      ]
    }
  ]
}